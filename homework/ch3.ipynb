{
 "cells": [
  {
   "attachments": {},
   "cell_type": "markdown",
   "metadata": {},
   "source": [
    "## 第三章作业\n",
    "\n",
    "#### 替换课程示例代码中的模型（ https://github.com/DjangoPeng/LLM-quickstart/blob/main/transformers/pipelines.ipynb ） 对比不同模型在相同任务上的性能表现。\n",
    "\n",
    "#### 你可以在 Hugging Face Models 中找到适合你的模型： https://huggingface.co/models"
   ]
  },
  {
   "cell_type": "code",
   "execution_count": 1,
   "metadata": {},
   "outputs": [
    {
     "name": "stderr",
     "output_type": "stream",
     "text": [
      "/root/.venvs/py311/lib/python3.11/site-packages/tqdm/auto.py:21: TqdmWarning: IProgress not found. Please update jupyter and ipywidgets. See https://ipywidgets.readthedocs.io/en/stable/user_install.html\n",
      "  from .autonotebook import tqdm as notebook_tqdm\n"
     ]
    }
   ],
   "source": [
    "import os\n",
    "from transformers import pipeline, AutoTokenizer, AutoModelForTokenClassification"
   ]
  },
  {
   "cell_type": "code",
   "execution_count": 2,
   "metadata": {},
   "outputs": [],
   "source": [
    "os.environ['HF_HOME'] = '/mnt/sda/hf'\n",
    "os.environ['HF_HUB_CACHE'] = '/mnt/sda/hf/hub'\n",
    "# os.environ['http_proxy'] = 'http://127.0.0.1:7890'\n",
    "# os.environ['https_proxy'] = 'http://127.0.0.1:7890'"
   ]
  },
  {
   "cell_type": "markdown",
   "metadata": {},
   "source": [
    "#### 1. 情感分析任务"
   ]
  },
  {
   "cell_type": "code",
   "execution_count": 3,
   "metadata": {},
   "outputs": [
    {
     "name": "stderr",
     "output_type": "stream",
     "text": [
      "/root/.venvs/py311/lib/python3.11/site-packages/huggingface_hub/file_download.py:1132: FutureWarning: `resume_download` is deprecated and will be removed in version 1.0.0. Downloads always resume when possible. If you want to force a new download, use `force_download=True`.\n",
      "  warnings.warn(\n",
      "/root/.venvs/py311/lib/python3.11/site-packages/transformers/pipelines/text_classification.py:105: UserWarning: `return_all_scores` is now deprecated,  if want a similar functionality use `top_k=None` instead of `return_all_scores=True` or `top_k=1` instead of `return_all_scores=False`.\n",
      "  warnings.warn(\n"
     ]
    }
   ],
   "source": [
    "pipe = pipeline(\n",
    "    task='sentiment-analysis',\n",
    "    model='lxyuan/distilbert-base-multilingual-cased-sentiments-student',\n",
    "    return_all_scores=True\n",
    ")"
   ]
  },
  {
   "cell_type": "code",
   "execution_count": 4,
   "metadata": {},
   "outputs": [
    {
     "data": {
      "text/plain": [
       "[[{'label': 'positive', 'score': 0.11399053037166595},\n",
       "  {'label': 'neutral', 'score': 0.22023959457874298},\n",
       "  {'label': 'negative', 'score': 0.6657698750495911}]]"
      ]
     },
     "execution_count": 4,
     "metadata": {},
     "output_type": "execute_result"
    }
   ],
   "source": [
    "pipe('今儿上海可真冷啊')"
   ]
  },
  {
   "cell_type": "code",
   "execution_count": 5,
   "metadata": {},
   "outputs": [
    {
     "data": {
      "text/plain": [
       "[[{'label': 'positive', 'score': 0.0725812315940857},\n",
       "  {'label': 'neutral', 'score': 0.6030056476593018},\n",
       "  {'label': 'negative', 'score': 0.3244131803512573}]]"
      ]
     },
     "execution_count": 5,
     "metadata": {},
     "output_type": "execute_result"
    }
   ],
   "source": [
    "pipe(\"我觉得这家店蒜泥白肉的味道一般\")"
   ]
  },
  {
   "cell_type": "code",
   "execution_count": 6,
   "metadata": {},
   "outputs": [
    {
     "data": {
      "text/plain": [
       "[[{'label': 'positive', 'score': 0.9461327791213989},\n",
       "  {'label': 'neutral', 'score': 0.03845958411693573},\n",
       "  {'label': 'negative', 'score': 0.015407565981149673}]]"
      ]
     },
     "execution_count": 6,
     "metadata": {},
     "output_type": "execute_result"
    }
   ],
   "source": [
    "pipe(\"你学东西真的好快，理论课一讲就明白了\")"
   ]
  },
  {
   "cell_type": "code",
   "execution_count": 7,
   "metadata": {},
   "outputs": [
    {
     "data": {
      "text/plain": [
       "[[{'label': 'positive', 'score': 0.09706173837184906},\n",
       "  {'label': 'neutral', 'score': 0.12048669904470444},\n",
       "  {'label': 'negative', 'score': 0.7824515104293823}],\n",
       " [{'label': 'positive', 'score': 0.3724641501903534},\n",
       "  {'label': 'neutral', 'score': 0.25003641843795776},\n",
       "  {'label': 'negative', 'score': 0.3774994909763336}],\n",
       " [{'label': 'positive', 'score': 0.7639099359512329},\n",
       "  {'label': 'neutral', 'score': 0.15310528874397278},\n",
       "  {'label': 'negative', 'score': 0.0829847902059555}]]"
      ]
     },
     "execution_count": 7,
     "metadata": {},
     "output_type": "execute_result"
    }
   ],
   "source": [
    "text_list = [\n",
    "    \"Today Shanghai is really cold.\",\n",
    "    \"I think the taste of the garlic mashed pork in this store is average.\",\n",
    "    \"You learn things really quickly. You understand the theory class as soon as it is taught.\"\n",
    "]\n",
    "\n",
    "pipe(text_list)"
   ]
  },
  {
   "cell_type": "markdown",
   "metadata": {},
   "source": [
    "#### 2. NER任务"
   ]
  },
  {
   "cell_type": "code",
   "execution_count": 8,
   "metadata": {},
   "outputs": [],
   "source": [
    "model_name = 'dslim/distilbert-NER'\n",
    "tokenizer = AutoTokenizer.from_pretrained(model_name)\n",
    "model = AutoModelForTokenClassification.from_pretrained(model_name)\n",
    "\n",
    "ner = pipeline(task='ner', model=model, tokenizer=tokenizer)"
   ]
  },
  {
   "cell_type": "code",
   "execution_count": 9,
   "metadata": {},
   "outputs": [
    {
     "name": "stdout",
     "output_type": "stream",
     "text": [
      "{'entity': 'LABEL_0', 'score': 0.7291, 'index': 1, 'word': 'Hu', 'start': 0, 'end': 2}\n",
      "{'entity': 'LABEL_0', 'score': 0.7136, 'index': 2, 'word': '##gging', 'start': 2, 'end': 7}\n",
      "{'entity': 'LABEL_4', 'score': 0.9664, 'index': 3, 'word': 'Face', 'start': 8, 'end': 12}\n",
      "{'entity': 'LABEL_0', 'score': 0.9991, 'index': 4, 'word': 'is', 'start': 13, 'end': 15}\n",
      "{'entity': 'LABEL_0', 'score': 0.9993, 'index': 5, 'word': 'a', 'start': 16, 'end': 17}\n",
      "{'entity': 'LABEL_7', 'score': 0.9873, 'index': 6, 'word': 'French', 'start': 18, 'end': 24}\n",
      "{'entity': 'LABEL_0', 'score': 0.9971, 'index': 7, 'word': 'company', 'start': 25, 'end': 32}\n",
      "{'entity': 'LABEL_0', 'score': 0.9993, 'index': 8, 'word': 'based', 'start': 33, 'end': 38}\n",
      "{'entity': 'LABEL_0', 'score': 0.9994, 'index': 9, 'word': 'in', 'start': 39, 'end': 41}\n",
      "{'entity': 'LABEL_5', 'score': 0.9959, 'index': 10, 'word': 'New', 'start': 42, 'end': 45}\n",
      "{'entity': 'LABEL_6', 'score': 0.9959, 'index': 11, 'word': 'York', 'start': 46, 'end': 50}\n",
      "{'entity': 'LABEL_6', 'score': 0.9957, 'index': 12, 'word': 'City', 'start': 51, 'end': 55}\n",
      "{'entity': 'LABEL_0', 'score': 0.9983, 'index': 13, 'word': '.', 'start': 55, 'end': 56}\n"
     ]
    }
   ],
   "source": [
    "preds = ner(\"Hugging Face is a French company based in New York City.\")\n",
    "preds = [\n",
    "    {\n",
    "        \"entity\": pred[\"entity\"],\n",
    "        \"score\": round(pred[\"score\"], 4),\n",
    "        \"index\": pred[\"index\"],\n",
    "        \"word\": pred[\"word\"],\n",
    "        \"start\": pred[\"start\"],\n",
    "        \"end\": pred[\"end\"],\n",
    "    }\n",
    "    for pred in preds\n",
    "]\n",
    "print(*preds, sep=\"\\n\")"
   ]
  },
  {
   "cell_type": "code",
   "execution_count": 10,
   "metadata": {},
   "outputs": [
    {
     "name": "stderr",
     "output_type": "stream",
     "text": [
      "/root/.venvs/py311/lib/python3.11/site-packages/transformers/pipelines/token_classification.py:169: UserWarning: `grouped_entities` is deprecated and will be removed in version v5.0.0, defaulted to `aggregation_strategy=\"AggregationStrategy.SIMPLE\"` instead.\n",
      "  warnings.warn(\n"
     ]
    },
    {
     "data": {
      "text/plain": [
       "[{'entity_group': 'LABEL_0',\n",
       "  'score': 0.7213408,\n",
       "  'word': 'Hugging',\n",
       "  'start': 0,\n",
       "  'end': 7},\n",
       " {'entity_group': 'LABEL_4',\n",
       "  'score': 0.9663961,\n",
       "  'word': 'Face',\n",
       "  'start': 8,\n",
       "  'end': 12},\n",
       " {'entity_group': 'LABEL_0',\n",
       "  'score': 0.99920726,\n",
       "  'word': 'is a',\n",
       "  'start': 13,\n",
       "  'end': 17},\n",
       " {'entity_group': 'LABEL_7',\n",
       "  'score': 0.98729867,\n",
       "  'word': 'French',\n",
       "  'start': 18,\n",
       "  'end': 24},\n",
       " {'entity_group': 'LABEL_0',\n",
       "  'score': 0.99861956,\n",
       "  'word': 'company based in',\n",
       "  'start': 25,\n",
       "  'end': 41},\n",
       " {'entity_group': 'LABEL_5',\n",
       "  'score': 0.99593264,\n",
       "  'word': 'New',\n",
       "  'start': 42,\n",
       "  'end': 45},\n",
       " {'entity_group': 'LABEL_6',\n",
       "  'score': 0.99578834,\n",
       "  'word': 'York City',\n",
       "  'start': 46,\n",
       "  'end': 55},\n",
       " {'entity_group': 'LABEL_0',\n",
       "  'score': 0.9983041,\n",
       "  'word': '.',\n",
       "  'start': 55,\n",
       "  'end': 56}]"
      ]
     },
     "execution_count": 10,
     "metadata": {},
     "output_type": "execute_result"
    }
   ],
   "source": [
    "ner = pipeline(task='ner', model=model, tokenizer=tokenizer, grouped_entities=True)\n",
    "ner(\"Hugging Face is a French company based in New York City.\")"
   ]
  }
 ],
 "metadata": {
  "kernelspec": {
   "display_name": ".venv",
   "language": "python",
   "name": "python3"
  },
  "language_info": {
   "codemirror_mode": {
    "name": "ipython",
    "version": 3
   },
   "file_extension": ".py",
   "mimetype": "text/x-python",
   "name": "python",
   "nbconvert_exporter": "python",
   "pygments_lexer": "ipython3",
   "version": "3.11.9"
  },
  "orig_nbformat": 4
 },
 "nbformat": 4,
 "nbformat_minor": 2
}
