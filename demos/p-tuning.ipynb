{
 "cells": [
  {
   "cell_type": "markdown",
   "metadata": {},
   "source": [
    "P-Tuning 是 Prompt-based Tuning 的简称，是一种基于提示的微调技术。它的主要思想是在预训练语言模型（如 BERT、GPT 等）输入序列中插入一些可训练的提示（prompts），从而使模型能够更好地适应下游任务。  \n",
    "\n",
    "#### P-Tuning 的含义\n",
    "- **P**：代表 Prompt，即提示。提示是一组特殊的 token，其嵌入向量是可训练的。\n",
    "- **Tuning**：指微调，即对模型进行进一步的训练，使其适应特定任务。  \n",
    "\n",
    "#### 核心思想\n",
    "传统的微调方法是直接在预训练语言模型的基础上添加特定任务的头部（如分类头）并进行训练。而 P-Tuning 则是在输入序列中插入一些额外的提示 token，这些提示 token 的嵌入向量是可训练的，通过这些提示 token，模型能够在下游任务中更好地利用预训练知识。\n",
    "\n",
    "#### P-Tuning 和 Prefix-Tuning 的主要区别\n",
    "- **P-Tuning**：适用于各种下游任务，尤其是分类和回归任务。提示 token 可以插入到输入序列的任何位置，包括前面、中间或后面。\n",
    "- **Prefix-Tuning**：主要用于生成任务，如文本生成和机器翻译。提示 token 通常添加在输入序列的前面，作为前缀。"
   ]
  },
  {
   "cell_type": "code",
   "execution_count": 2,
   "metadata": {},
   "outputs": [],
   "source": [
    "import torch\n",
    "import torch.nn as nn\n",
    "from transformers import BertTokenizer, BertForSequenceClassification, AdamW\n",
    "from torch.utils.data import DataLoader, Dataset"
   ]
  },
  {
   "cell_type": "code",
   "execution_count": 3,
   "metadata": {},
   "outputs": [],
   "source": [
    "class CustomDataset(Dataset):\n",
    "    def __init__(self, texts, labels, tokenizer, max_length) -> None:\n",
    "        self.texts = texts\n",
    "        self.labels = labels\n",
    "        self.tokenizer = tokenizer\n",
    "        self.max_length = max_length\n",
    "    \n",
    "    def __len__(self):\n",
    "        return len(self.texts)\n",
    "    \n",
    "    def __getitem__(self, idx):\n",
    "        text = self.texts[idx]\n",
    "        label = self.labels[idx]\n",
    "        inputs = self.tokenizer.encode_plus(\n",
    "            text,\n",
    "            None,\n",
    "            add_special_tokens=True,\n",
    "            max_length=self.max_length,\n",
    "            padding='max_length',\n",
    "            truncation=True,\n",
    "            return_tensors='pt'\n",
    "        )\n",
    "        return {\n",
    "            'input_ids': inputs['input_ids'].flatten(),\n",
    "            'attention_mask': inputs['attention_mask'].flatten(),\n",
    "            'labels': torch.tensor(label, dtype=torch.long)\n",
    "        }"
   ]
  },
  {
   "cell_type": "code",
   "execution_count": 4,
   "metadata": {},
   "outputs": [],
   "source": [
    "class PTuningBERT(nn.Module):\n",
    "    def __init__(self, model_name, num_labels, prompt_length):\n",
    "        super().__init__()\n",
    "        self.bert = BertForSequenceClassification.from_pretrained(model_name, num_labels=num_labels)\n",
    "        self.prompt_embeddings = nn.Embedding(prompt_length, self.bert.config.hidden_size)\n",
    "        self.prompt_length = prompt_length\n",
    "\n",
    "        # 冻结 bert 模型的参数\n",
    "        for param in self.bert.parameters():\n",
    "            param.requires_grad = False\n",
    "    \n",
    "    def forward(self, input_ids, attention_mask, labels=None):\n",
    "        batch_size = input_ids.size(0)\n",
    "        device = input_ids.device\n",
    "\n",
    "        prompt_tokens = torch.arange(0, self.prompt_length).unsqueeze(0).repeat(batch_size, 1).to(device)\n",
    "        prompt_embeddings = self.prompt_embeddings(prompt_tokens)\n",
    "\n",
    "        inputs_embeds = self.bert.bert.embeddings(input_ids)\n",
    "        split_point = inputs_embeds.size(1) // 2\n",
    "        inputs_embeds = torch.cat((\n",
    "            inputs_embeds[:, :split_point], \n",
    "            prompt_embeddings, \n",
    "            inputs_embeds[:, split_point:]\n",
    "            ), dim=1)\n",
    "        attention_mask = torch.cat((\n",
    "            attention_mask[:, :split_point],\n",
    "            torch.ones(batch_size, self.prompt_length).to(device), \n",
    "            attention_mask[:, split_point:]\n",
    "            ), dim=1)\n",
    "\n",
    "        outputs = self.bert(\n",
    "            inputs_embeds=inputs_embeds,\n",
    "            attention_mask=attention_mask,\n",
    "            labels=labels\n",
    "        )\n",
    "        return outputs"
   ]
  },
  {
   "cell_type": "code",
   "execution_count": 5,
   "metadata": {},
   "outputs": [
    {
     "name": "stderr",
     "output_type": "stream",
     "text": [
      "Some weights of BertForSequenceClassification were not initialized from the model checkpoint at bert-base-uncased and are newly initialized: ['classifier.bias', 'classifier.weight']\n",
      "You should probably TRAIN this model on a down-stream task to be able to use it for predictions and inference.\n",
      "d:\\JupyterLab\\.venvs\\py311\\Lib\\site-packages\\transformers\\optimization.py:521: FutureWarning: This implementation of AdamW is deprecated and will be removed in a future version. Use the PyTorch implementation torch.optim.AdamW instead, or set `no_deprecation_warning=True` to disable this warning\n",
      "  warnings.warn(\n"
     ]
    }
   ],
   "source": [
    "tokenizer = BertTokenizer.from_pretrained('bert-base-uncased')\n",
    "model = PTuningBERT('bert-base-uncased', num_labels=2, prompt_length=10)\n",
    "texts = [\"This is a positive example.\", \"This is a negative example.\"]\n",
    "labels = [1, 0]\n",
    "max_length = 128\n",
    "\n",
    "dataset = CustomDataset(texts, labels, tokenizer, max_length)\n",
    "dataloader = DataLoader(dataset, batch_size=2)\n",
    "\n",
    "optimizer = AdamW(model.parameters(), lr=1e-5)"
   ]
  },
  {
   "cell_type": "code",
   "execution_count": 8,
   "metadata": {},
   "outputs": [
    {
     "name": "stdout",
     "output_type": "stream",
     "text": [
      "Epoch 1, Loss: 0.6911073923110962\n",
      "Epoch 2, Loss: 0.6256528496742249\n",
      "Epoch 3, Loss: 0.8360525369644165\n"
     ]
    }
   ],
   "source": [
    "device = torch.device('cuda' if torch.cuda.is_available() else 'cpu')\n",
    "model.to(device)\n",
    "\n",
    "for epoch in range(3):\n",
    "    model.train()\n",
    "    for batch in dataloader:\n",
    "        input_ids = batch['input_ids'].to(device)\n",
    "        attention_mask = batch['attention_mask'].to(device)\n",
    "        labels = batch['labels'].to(device)\n",
    "\n",
    "        outputs = model(input_ids, attention_mask, labels=labels)\n",
    "        loss = outputs.loss\n",
    "        optimizer.zero_grad()\n",
    "        loss.backward()\n",
    "        optimizer.step()\n",
    "        print(f'Epoch {epoch+1}, Loss: {loss.item()}')\n",
    "        "
   ]
  },
  {
   "cell_type": "code",
   "execution_count": 7,
   "metadata": {},
   "outputs": [
    {
     "name": "stdout",
     "output_type": "stream",
     "text": [
      "Predictions: tensor([1, 1], device='cuda:0'), Labels: tensor([1, 0], device='cuda:0')\n"
     ]
    }
   ],
   "source": [
    "model.eval()\n",
    "with torch.no_grad():\n",
    "    for batch in dataloader:\n",
    "        input_ids = batch['input_ids'].to(device)\n",
    "        attention_mask = batch['attention_mask'].to(device)\n",
    "        labels = batch['labels'].to(device)\n",
    "\n",
    "        outputs = model(input_ids, attention_mask, labels=labels)\n",
    "        logits = outputs.logits\n",
    "        predictions = torch.argmax(logits, dim=1)\n",
    "        print(f'Predictions: {predictions}, Labels: {labels}')"
   ]
  },
  {
   "cell_type": "code",
   "execution_count": null,
   "metadata": {},
   "outputs": [],
   "source": []
  },
  {
   "cell_type": "code",
   "execution_count": null,
   "metadata": {},
   "outputs": [],
   "source": []
  },
  {
   "cell_type": "code",
   "execution_count": null,
   "metadata": {},
   "outputs": [],
   "source": []
  },
  {
   "cell_type": "code",
   "execution_count": null,
   "metadata": {},
   "outputs": [],
   "source": []
  },
  {
   "cell_type": "code",
   "execution_count": null,
   "metadata": {},
   "outputs": [],
   "source": []
  },
  {
   "cell_type": "code",
   "execution_count": null,
   "metadata": {},
   "outputs": [],
   "source": []
  },
  {
   "cell_type": "code",
   "execution_count": null,
   "metadata": {},
   "outputs": [],
   "source": []
  },
  {
   "cell_type": "code",
   "execution_count": null,
   "metadata": {},
   "outputs": [],
   "source": []
  },
  {
   "cell_type": "code",
   "execution_count": null,
   "metadata": {},
   "outputs": [],
   "source": []
  },
  {
   "cell_type": "code",
   "execution_count": null,
   "metadata": {},
   "outputs": [],
   "source": []
  },
  {
   "cell_type": "code",
   "execution_count": null,
   "metadata": {},
   "outputs": [],
   "source": []
  },
  {
   "cell_type": "code",
   "execution_count": null,
   "metadata": {},
   "outputs": [],
   "source": []
  },
  {
   "cell_type": "code",
   "execution_count": null,
   "metadata": {},
   "outputs": [],
   "source": []
  },
  {
   "cell_type": "code",
   "execution_count": null,
   "metadata": {},
   "outputs": [],
   "source": []
  },
  {
   "cell_type": "code",
   "execution_count": null,
   "metadata": {},
   "outputs": [],
   "source": []
  },
  {
   "cell_type": "code",
   "execution_count": null,
   "metadata": {},
   "outputs": [],
   "source": []
  },
  {
   "cell_type": "code",
   "execution_count": null,
   "metadata": {},
   "outputs": [],
   "source": []
  },
  {
   "cell_type": "code",
   "execution_count": null,
   "metadata": {},
   "outputs": [],
   "source": []
  },
  {
   "cell_type": "code",
   "execution_count": null,
   "metadata": {},
   "outputs": [],
   "source": []
  },
  {
   "cell_type": "code",
   "execution_count": null,
   "metadata": {},
   "outputs": [],
   "source": []
  },
  {
   "cell_type": "code",
   "execution_count": null,
   "metadata": {},
   "outputs": [],
   "source": []
  },
  {
   "cell_type": "code",
   "execution_count": null,
   "metadata": {},
   "outputs": [],
   "source": []
  }
 ],
 "metadata": {
  "kernelspec": {
   "display_name": "py311",
   "language": "python",
   "name": "python3"
  },
  "language_info": {
   "codemirror_mode": {
    "name": "ipython",
    "version": 3
   },
   "file_extension": ".py",
   "mimetype": "text/x-python",
   "name": "python",
   "nbconvert_exporter": "python",
   "pygments_lexer": "ipython3",
   "version": "3.11.3"
  }
 },
 "nbformat": 4,
 "nbformat_minor": 2
}
